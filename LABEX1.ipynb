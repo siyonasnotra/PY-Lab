{
  "cells": [
    {
      "cell_type": "markdown",
      "metadata": {
        "id": "view-in-github",
        "colab_type": "text"
      },
      "source": [
        "<a href=\"https://colab.research.google.com/github/siyonasnotra/PY-LabExercise-1/blob/main/LABEX1.ipynb\" target=\"_parent\"><img src=\"https://colab.research.google.com/assets/colab-badge.svg\" alt=\"Open In Colab\"/></a>"
      ]
    },
    {
      "cell_type": "code",
      "execution_count": null,
      "metadata": {
        "colab": {
          "base_uri": "https://localhost:8080/"
        },
        "id": "gx7cYIl1klIC",
        "outputId": "f8db7e26-e12d-41ec-9b6b-03766eb375ec"
      },
      "outputs": [
        {
          "name": "stdout",
          "output_type": "stream",
          "text": [
            "25\n",
            "Product of all items: 945\n",
            "Largest number is: 9\n",
            "Smallest number is: 1\n"
          ]
        }
      ],
      "source": [
        "#question1:\n",
        "\n",
        "s_list=[1,3,5,7,9]\n",
        "print(s_list)\n",
        "\n",
        "#sum\n",
        "sum_list=sum(s_list)\n",
        "print(sum_list)\n",
        "\n",
        "#multiply\n",
        "p = 1\n",
        "for i in s_list:\n",
        "    p = p*i\n",
        "print(\"Product of all items:\", p)\n",
        "\n",
        "#largest number\n",
        "l=max(s_list)\n",
        "print(\"Largest number is:\", l)\n",
        "\n",
        "#smallest number\n",
        "print(\"Smallest number is:\", min(s_list))\n",
        "\n"
      ]
    },
    {
      "cell_type": "code",
      "execution_count": null,
      "metadata": {
        "colab": {
          "base_uri": "https://localhost:8080/"
        },
        "id": "xXLdTiHdndxc",
        "outputId": "297ec76e-13cc-4ebf-d8ec-d4e20dfaeae3"
      },
      "outputs": [
        {
          "name": "stdout",
          "output_type": "stream",
          "text": [
            "String: aba ; Index: 2\n",
            "String: 1221 ; Index: 3\n"
          ]
        }
      ],
      "source": [
        "#Question 2\n",
        "\n",
        "A = ['abc', 'xyz', 'aba', '1221']\n",
        "\n",
        "index = 0\n",
        "for string in A:\n",
        "    if len(string) > 0 and string[0] == string[-1]:\n",
        "        print(\"String:\",string ,\"; Index:\",index)\n",
        "    index = index+1\n"
      ]
    },
    {
      "cell_type": "code",
      "execution_count": null,
      "metadata": {
        "colab": {
          "base_uri": "https://localhost:8080/"
        },
        "id": "B5SwSqtEnd-V",
        "outputId": "0be0ff08-0d5c-4c54-f2cc-ac5a6e9adaf2"
      },
      "outputs": [
        {
          "output_type": "stream",
          "name": "stdout",
          "text": [
            "A\n",
            "AB\n",
            "ABC\n",
            "ABCD\n",
            "ABCDE\n",
            "\n",
            "\n",
            "*\n",
            "**\n",
            "***\n",
            "****\n",
            "*****\n"
          ]
        }
      ],
      "source": [
        "#Question3\n",
        "\n",
        "#alphabet Triangle\n",
        "def alphabet_triangle(n):\n",
        "    for i in range(n):\n",
        "        for j in range(i + 1):\n",
        "            print(chr(65 + j), end='')\n",
        "        print()\n",
        "\n",
        "n = 5\n",
        "alphabet_triangle(n)\n",
        "\n",
        "print(\"\\n\")\n",
        "\n",
        "#star Triangle\n",
        "def star_triangle(n):\n",
        "    for i in range(n):\n",
        "        for j in range(i + 1):\n",
        "            print('*', end='')\n",
        "        print()\n",
        "\n",
        "n = 5\n",
        "star_triangle(n)\n",
        "\n",
        "\n"
      ]
    },
    {
      "cell_type": "code",
      "execution_count": null,
      "metadata": {
        "colab": {
          "base_uri": "https://localhost:8080/"
        },
        "id": "8TRZQN3Yrunw",
        "outputId": "73a7354e-218e-4e2a-8701-85e04b709a5f"
      },
      "outputs": [
        {
          "output_type": "stream",
          "name": "stdout",
          "text": [
            "{'colorName': 'Black', 'colorCode': '000000'}\n",
            "{'colorName': 'Red', 'colorCode': 'FF0000'}\n",
            "{'colorName': 'Maroon', 'colorCode': '800000'}\n",
            "{'colorName': 'Yellow', 'colorCode': 'FFFF00'}\n"
          ]
        }
      ],
      "source": [
        "#Question 4\n",
        "\n",
        "color_names = [\"Black\", \"Red\", \"Maroon\", \"Yellow\"]\n",
        "color_codes = [\"000000\", \"FF0000\", \"800000\", \"FFFF00\"]\n",
        "\n",
        "color_list = []\n",
        "\n",
        "# Iterate over the indices of the lists\n",
        "for i in range(len(color_names)):\n",
        "    color_dict = {\n",
        "        'colorName': color_names[i],\n",
        "        'colorCode': color_codes[i]\n",
        "    }\n",
        "    color_list.append(color_dict)\n",
        "\n",
        "# Print the result\n",
        "for color_dict in color_list:\n",
        "    print(color_dict)\n"
      ]
    },
    {
      "cell_type": "code",
      "execution_count": null,
      "metadata": {
        "id": "KmwQIU4Pru_d",
        "colab": {
          "base_uri": "https://localhost:8080/"
        },
        "outputId": "43c3ad54-6463-4ceb-e74d-ade25b686f56"
      },
      "outputs": [
        {
          "output_type": "stream",
          "name": "stdout",
          "text": [
            "Even numbers and their squares for range(1, 50):\n",
            "Number: 2 Square: 4\n",
            "Number: 4 Square: 16\n",
            "Number: 6 Square: 36\n",
            "Number: 8 Square: 64\n",
            "Number: 10 Square: 100\n",
            "Number: 12 Square: 144\n",
            "Number: 14 Square: 196\n",
            "Number: 16 Square: 256\n",
            "Number: 18 Square: 324\n",
            "Number: 20 Square: 400\n",
            "Number: 22 Square: 484\n",
            "Number: 24 Square: 576\n",
            "Number: 26 Square: 676\n",
            "Number: 28 Square: 784\n",
            "Number: 30 Square: 900\n",
            "Number: 32 Square: 1024\n",
            "Number: 34 Square: 1156\n",
            "Number: 36 Square: 1296\n",
            "Number: 38 Square: 1444\n",
            "Number: 40 Square: 1600\n",
            "Number: 42 Square: 1764\n",
            "Number: 44 Square: 1936\n",
            "Number: 46 Square: 2116\n",
            "Number: 48 Square: 2304\n",
            "\n",
            "\n",
            "Even numbers and their squares for range(1, 100):\n",
            "Number: 2 Square: 4\n",
            "Number: 4 Square: 16\n",
            "Number: 6 Square: 36\n",
            "Number: 8 Square: 64\n",
            "Number: 10 Square: 100\n",
            "Number: 12 Square: 144\n",
            "Number: 14 Square: 196\n",
            "Number: 16 Square: 256\n",
            "Number: 18 Square: 324\n",
            "Number: 20 Square: 400\n",
            "Number: 22 Square: 484\n",
            "Number: 24 Square: 576\n",
            "Number: 26 Square: 676\n",
            "Number: 28 Square: 784\n",
            "Number: 30 Square: 900\n",
            "Number: 32 Square: 1024\n",
            "Number: 34 Square: 1156\n",
            "Number: 36 Square: 1296\n",
            "Number: 38 Square: 1444\n",
            "Number: 40 Square: 1600\n",
            "Number: 42 Square: 1764\n",
            "Number: 44 Square: 1936\n",
            "Number: 46 Square: 2116\n",
            "Number: 48 Square: 2304\n",
            "Number: 50 Square: 2500\n",
            "Number: 52 Square: 2704\n",
            "Number: 54 Square: 2916\n",
            "Number: 56 Square: 3136\n",
            "Number: 58 Square: 3364\n",
            "Number: 60 Square: 3600\n",
            "Number: 62 Square: 3844\n",
            "Number: 64 Square: 4096\n",
            "Number: 66 Square: 4356\n",
            "Number: 68 Square: 4624\n",
            "Number: 70 Square: 4900\n",
            "Number: 72 Square: 5184\n",
            "Number: 74 Square: 5476\n",
            "Number: 76 Square: 5776\n",
            "Number: 78 Square: 6084\n",
            "Number: 80 Square: 6400\n",
            "Number: 82 Square: 6724\n",
            "Number: 84 Square: 7056\n",
            "Number: 86 Square: 7396\n",
            "Number: 88 Square: 7744\n",
            "Number: 90 Square: 8100\n",
            "Number: 92 Square: 8464\n",
            "Number: 94 Square: 8836\n",
            "Number: 96 Square: 9216\n",
            "Number: 98 Square: 9604\n"
          ]
        }
      ],
      "source": [
        "#Question 5\n",
        "\n",
        "#range(1, 50)\n",
        "print(\"Even numbers and their squares for range(1, 50):\")\n",
        "for num in range(1, 50):\n",
        "    if num % 2 == 0:\n",
        "        print(\"Number:\",num, \"Square:\",num ** 2)\n",
        "\n",
        "print(\"\\n\")\n",
        "\n",
        "#range(1, 100)\n",
        "print(\"Even numbers and their squares for range(1, 100):\")\n",
        "for num in range(1, 100):\n",
        "    if num % 2 == 0:\n",
        "        print(\"Number:\",num, \"Square:\", num ** 2)\n"
      ]
    },
    {
      "cell_type": "code",
      "execution_count": null,
      "metadata": {
        "id": "_VPzKJ3rrvOt",
        "colab": {
          "base_uri": "https://localhost:8080/"
        },
        "outputId": "a21c3bab-c509-4486-8994-2ef3ef2b45f9"
      },
      "outputs": [
        {
          "output_type": "stream",
          "name": "stdout",
          "text": [
            "Enter a four-digit number: 1234\n",
            "Sum of digits: 10\n",
            "Reversed number: 4321\n"
          ]
        }
      ],
      "source": [
        "#Question 6\n",
        "\n",
        "number = int(input(\"Enter a four-digit number: \"))\n",
        "if 1000 <= number <= 9999:\n",
        "    number_str = str(number)\n",
        "\n",
        "    #Sum of digits\n",
        "    sum_of_digits = sum(int(digit) for digit in number_str)\n",
        "    print(\"Sum of digits:\",sum_of_digits)\n",
        "\n",
        "    #Reverse the number\n",
        "    reverse_number = number_str[::-1]\n",
        "    print(\"Reversed number:\",reverse_number)\n",
        "else:\n",
        "    print(\"Please enter a valid four-digit number.\")"
      ]
    },
    {
      "cell_type": "code",
      "execution_count": null,
      "metadata": {
        "id": "m7fVG7gorvXz",
        "colab": {
          "base_uri": "https://localhost:8080/"
        },
        "outputId": "02494f4a-7407-485e-c783-29c63842c02e"
      },
      "outputs": [
        {
          "output_type": "stream",
          "name": "stdout",
          "text": [
            "Enter the first side of the first triangle: 3\n",
            "Enter the second side of the first triangle: 4\n",
            "Enter the third side of the first triangle: 5\n",
            "Enter the first side of the second triangle: 6\n",
            "Enter the second side of the second triangle: 8\n",
            "Enter the third side of the second triangle: 10\n",
            "Area of First Triangle: 6.0\n",
            "Area of Second Triangle: 24.0\n",
            "Total Area: 30.0\n",
            "Contribution of First Triangle: 20.0\n",
            "Contribution of Second Triangle: 80.0\n"
          ]
        }
      ],
      "source": [
        "#Question 7\n",
        "import math\n",
        "def calculate_area(a, b, c):\n",
        "    s = (a + b + c) / 2\n",
        "    area = math.sqrt(s * (s - a) * (s - b) * (s - c))\n",
        "    return area\n",
        "\n",
        "#sides of first triangle\n",
        "a1 = float(input(\"Enter the first side of the first triangle: \"))\n",
        "b1 = float(input(\"Enter the second side of the first triangle: \"))\n",
        "c1 = float(input(\"Enter the third side of the first triangle: \"))\n",
        "\n",
        "#sides of second triangle\n",
        "a2 = float(input(\"Enter the first side of the second triangle: \"))\n",
        "b2 = float(input(\"Enter the second side of the second triangle: \"))\n",
        "c2 = float(input(\"Enter the third side of the second triangle: \"))\n",
        "\n",
        "\n",
        "area1 = calculate_area(a1, b1, c1)\n",
        "area2 = calculate_area(a2, b2, c2)\n",
        "\n",
        "total_area = area1 + area2\n",
        "\n",
        "#contribution percentage\n",
        "contribution1 = (area1 / total_area) * 100\n",
        "contribution2 = (area2 / total_area) * 100\n",
        "\n",
        "# Print the results\n",
        "print(\"Area of First Triangle:\",area1)\n",
        "print(\"Area of Second Triangle:\",area2)\n",
        "print(\"Total Area:\",total_area)\n",
        "print(\"Contribution of First Triangle:\",contribution1)\n",
        "print(\"Contribution of Second Triangle:\",contribution2)\n",
        "\n"
      ]
    },
    {
      "cell_type": "code",
      "source": [
        "#Question 8\n",
        "\n",
        "people = [\n",
        "    {\"name\": \"John Doe\", \"age\": 30, \"blood_group\": \"A+\"},\n",
        "    {\"name\": \"Jane Smith\", \"age\": 25, \"blood_group\": \"B-\"},\n",
        "    {\"name\": \"Emily Davis\", \"age\": 40, \"blood_group\": \"O+\"},\n",
        "    {\"name\": \"Michael Brown\", \"age\": 35, \"blood_group\": \"AB-\"},\n",
        "    {\"name\": \"William Johnson\", \"age\": 28, \"blood_group\": \"A-\"},\n",
        "    {\"name\": \"Emma Wilson\", \"age\": 22, \"blood_group\": \"B+\"},\n",
        "    {\"name\": \"Oliver Martinez\", \"age\": 33, \"blood_group\": \"O-\"},\n",
        "    {\"name\": \"Sophia Anderson\", \"age\": 27, \"blood_group\": \"AB+\"},\n",
        "    {\"name\": \"James Thomas\", \"age\": 45, \"blood_group\": \"A+\"},\n",
        "    {\"name\": \"Isabella Lee\", \"age\": 38, \"blood_group\": \"B-\"}\n",
        "]\n",
        "\n",
        "for person in people:\n",
        "    print(\"Name:\",person['name'])\n",
        "    print(\"Age:\", person['age'])\n",
        "    print(\"Blood Group:\",person['blood_group'])\n",
        "    print('-' * 20)"
      ],
      "metadata": {
        "colab": {
          "base_uri": "https://localhost:8080/"
        },
        "id": "o988Gq2o0viU",
        "outputId": "852fde63-d303-4eb6-e3db-ae789925d2fa"
      },
      "execution_count": null,
      "outputs": [
        {
          "output_type": "stream",
          "name": "stdout",
          "text": [
            "Name: John Doe\n",
            "Age: 30\n",
            "Blood Group: A+\n",
            "--------------------\n",
            "Name: Jane Smith\n",
            "Age: 25\n",
            "Blood Group: B-\n",
            "--------------------\n",
            "Name: Emily Davis\n",
            "Age: 40\n",
            "Blood Group: O+\n",
            "--------------------\n",
            "Name: Michael Brown\n",
            "Age: 35\n",
            "Blood Group: AB-\n",
            "--------------------\n",
            "Name: William Johnson\n",
            "Age: 28\n",
            "Blood Group: A-\n",
            "--------------------\n",
            "Name: Emma Wilson\n",
            "Age: 22\n",
            "Blood Group: B+\n",
            "--------------------\n",
            "Name: Oliver Martinez\n",
            "Age: 33\n",
            "Blood Group: O-\n",
            "--------------------\n",
            "Name: Sophia Anderson\n",
            "Age: 27\n",
            "Blood Group: AB+\n",
            "--------------------\n",
            "Name: James Thomas\n",
            "Age: 45\n",
            "Blood Group: A+\n",
            "--------------------\n",
            "Name: Isabella Lee\n",
            "Age: 38\n",
            "Blood Group: B-\n",
            "--------------------\n"
          ]
        }
      ]
    },
    {
      "cell_type": "code",
      "source": [
        "#Question 9\n",
        "\n",
        "input_tuple = (\"python\", \"learn\", \"includehelp\")\n",
        "rear_elements = [word[-1] for word in input_tuple]\n",
        "\n",
        "print(rear_elements)\n"
      ],
      "metadata": {
        "colab": {
          "base_uri": "https://localhost:8080/"
        },
        "id": "sePOYIuc0wXC",
        "outputId": "e81c6ae4-0ce0-46a7-9181-91e758249d45"
      },
      "execution_count": null,
      "outputs": [
        {
          "output_type": "stream",
          "name": "stdout",
          "text": [
            "['n', 'n', 'p']\n"
          ]
        }
      ]
    },
    {
      "cell_type": "code",
      "source": [
        "#Question 10\n",
        "\n",
        "# List of month names\n",
        "months = (\"January\", \"February\", \"March\", \"April\", \"May\", \"June\",\n",
        "          \"July\", \"August\", \"September\", \"October\", \"November\", \"December\")\n",
        "\n",
        "# Function to determine if a year is a leap year\n",
        "def is_leap_year(year):\n",
        "    if (year % 4 == 0):\n",
        "        if (year % 100 == 0):\n",
        "            if (year % 400 == 0):\n",
        "                return True\n",
        "            else:\n",
        "                return False\n",
        "        else:\n",
        "            return True\n",
        "    else:\n",
        "        return False\n",
        "\n",
        "# Function to get the number of days in a month\n",
        "def get_days_in_month(month, year):\n",
        "    if month == \"January\":\n",
        "        return 31\n",
        "    elif month == \"February\":\n",
        "        if is_leap_year(year):\n",
        "            return 29\n",
        "        else:\n",
        "            return 28\n",
        "    elif month == \"March\":\n",
        "        return 31\n",
        "    elif month == \"April\":\n",
        "        return 30\n",
        "    elif month == \"May\":\n",
        "        return 31\n",
        "    elif month == \"June\":\n",
        "        return 30\n",
        "    elif month == \"July\":\n",
        "        return 31\n",
        "    elif month == \"August\":\n",
        "        return 31\n",
        "    elif month == \"September\":\n",
        "        return 30\n",
        "    elif month == \"October\":\n",
        "        return 31\n",
        "    elif month == \"November\":\n",
        "        return 30\n",
        "    elif month == \"December\":\n",
        "        return 31\n",
        "    else:\n",
        "        return \"Invalid month name\"\n",
        "\n",
        "# Taking inputs from the user\n",
        "month = input(\"Enter the month name: \")\n",
        "if month == \"February\":\n",
        "    year = int(input(\"Enter the year: \"))\n",
        "    days = get_days_in_month(month, year)\n",
        "else:\n",
        "    days = get_days_in_month(month, 2024)  # Using a dummy year for non-February months\n",
        "\n",
        "# Displaying the result\n",
        "print(\"The number of days in\",month \"is:\",days)"
      ],
      "metadata": {
        "id": "nGAG_xiD0wmL",
        "colab": {
          "base_uri": "https://localhost:8080/"
        },
        "outputId": "c03e2e38-3f0a-400f-a819-34a499ec3997"
      },
      "execution_count": 5,
      "outputs": [
        {
          "output_type": "stream",
          "name": "stdout",
          "text": [
            "Enter the month name: February\n",
            "Enter the year: 2000\n",
            "The number of days in February is: 29\n"
          ]
        }
      ]
    }
  ],
  "metadata": {
    "colab": {
      "provenance": [],
      "authorship_tag": "ABX9TyMNU/WL+imxrnxbuzoIRFJ6",
      "include_colab_link": true
    },
    "kernelspec": {
      "display_name": "Python 3",
      "name": "python3"
    },
    "language_info": {
      "name": "python"
    }
  },
  "nbformat": 4,
  "nbformat_minor": 0
}